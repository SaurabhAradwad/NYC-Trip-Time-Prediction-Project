{
  "cells": [
    {
      "cell_type": "markdown",
      "metadata": {
        "id": "view-in-github",
        "colab_type": "text"
      },
      "source": [
        "<a href=\"https://colab.research.google.com/github/SaurabhAradwad/NYC-Trip-Time-Prediction-Project/blob/main/NYC_Taxi_Trip_Time_Prediction_Capstone_Project.ipynb\" target=\"_parent\"><img src=\"https://colab.research.google.com/assets/colab-badge.svg\" alt=\"Open In Colab\"/></a>"
      ]
    },
    {
      "cell_type": "markdown",
      "metadata": {
        "id": "tOGC-qoyhJeX"
      },
      "source": [
        "# <b><u> Project Title : Taxi trip time Prediction : Predicting total ride duration of taxi trips in New York City</u></b>"
      ]
    },
    {
      "cell_type": "markdown",
      "metadata": {
        "id": "Y06xIdG26kRF"
      },
      "source": [
        "## <b> Problem Description </b>\n",
        "\n",
        "### Your task is to build a model that predicts the total ride duration of taxi trips in New York City. Your primary dataset is one released by the NYC Taxi and Limousine Commission, which includes pickup time, geo-coordinates, number of passengers, and several other variables."
      ]
    },
    {
      "cell_type": "markdown",
      "source": [
        "#<b> 01 Connect To gitHub and Google drive"
      ],
      "metadata": {
        "id": "fYhX8-fJ5VH7"
      }
    },
    {
      "cell_type": "code",
      "execution_count": null,
      "metadata": {
        "id": "CFRmG_YUd1FU",
        "colab": {
          "base_uri": "https://localhost:8080/"
        },
        "outputId": "447a9bc2-694f-4fee-8dd4-d2e9eee01a7e"
      },
      "outputs": [
        {
          "output_type": "stream",
          "name": "stdout",
          "text": [
            "fatal: destination path 'Superwised-ML-Regression-Project' already exists and is not an empty directory.\n"
          ]
        }
      ],
      "source": [
        "# Cloning gitHub Repo to colab for csv file connection\n",
        "\n",
        "!git clone https://github.com/SaurabhAradwad/Superwised-ML-Regression-Project"
      ]
    },
    {
      "cell_type": "code",
      "source": [
        "# Mounting google drive to colab notebook\n",
        "from google.colab import drive\n",
        "drive.mount('/content/drive')"
      ],
      "metadata": {
        "id": "UpHUWdyd4sug",
        "colab": {
          "base_uri": "https://localhost:8080/"
        },
        "outputId": "b8057d13-10a9-4e8d-ddd2-23bf719c1102"
      },
      "execution_count": null,
      "outputs": [
        {
          "output_type": "stream",
          "name": "stdout",
          "text": [
            "Drive already mounted at /content/drive; to attempt to forcibly remount, call drive.mount(\"/content/drive\", force_remount=True).\n"
          ]
        }
      ]
    },
    {
      "cell_type": "markdown",
      "source": [
        "#<b> 02 Installation 🧰 and Importing Libraries 📘\n",
        "\n",
        "\n"
      ],
      "metadata": {
        "id": "fv8d2v5h47Gq"
      }
    },
    {
      "cell_type": "code",
      "source": [
        "# Install klib library\n",
        " \n",
        "# klib is a Python library for importing, cleaning, analyzing and preprocessing data\n",
        "\n",
        "!pip install klib"
      ],
      "metadata": {
        "id": "fxfJPIYQ3bVB"
      },
      "execution_count": null,
      "outputs": []
    },
    {
      "cell_type": "code",
      "source": [
        "# Import klib library\n",
        "import klib\n",
        "\n",
        "# Import essential libraries \n",
        "import numpy as np \n",
        "import pandas as pd\n",
        "import seaborn as sns\n",
        "import matplotlib.pyplot as plt\n",
        "%matplotlib inline\n",
        "import missingno as msno\n",
        "import datetime as dt\n",
        "import warnings; warnings.simplefilter('ignore')\n",
        "\n",
        "# Importing sklearn plot_tree, DecisionTreeRegressor, accuracy_score, train_test_split \n",
        "from sklearn.tree import plot_tree\n",
        "from sklearn.metrics import accuracy_score, auc\n",
        "from sklearn.tree import DecisionTreeRegressor\n",
        "from sklearn.model_selection import train_test_split\n"
      ],
      "metadata": {
        "id": "0Bfa1S5035g-"
      },
      "execution_count": null,
      "outputs": []
    },
    {
      "cell_type": "markdown",
      "source": [
        "#<b> 03 Import CSV 📁 dataset as 🐼 DataFrame and 🔍 Inspection"
      ],
      "metadata": {
        "id": "wFNrd3Ku4oDO"
      }
    },
    {
      "cell_type": "markdown",
      "source": [
        "##<b> Import CSV from drive"
      ],
      "metadata": {
        "id": "ps2lwrZR0e7Q"
      }
    },
    {
      "cell_type": "code",
      "source": [
        "# Importing csv dataset as DataFrame using Pandas Read CSV function\n",
        "df = pd.read_csv('/content/drive/MyDrive/Capstone Project Folder/02 Superwised ML Regression/NYC Taxi Data.csv')"
      ],
      "metadata": {
        "id": "aLaBOptH4ng-"
      },
      "execution_count": 16,
      "outputs": []
    },
    {
      "cell_type": "markdown",
      "source": [
        "##<b> Data Inspection"
      ],
      "metadata": {
        "id": "lMONHcqU6oGe"
      }
    },
    {
      "cell_type": "code",
      "source": [
        "# Checking Head\n",
        "df.head()"
      ],
      "metadata": {
        "id": "vDzPnxic6nVA"
      },
      "execution_count": null,
      "outputs": []
    },
    {
      "cell_type": "code",
      "source": [
        "# Checking Tail\n",
        "df.tail()"
      ],
      "metadata": {
        "id": "swBa7Qu07CFk"
      },
      "execution_count": null,
      "outputs": []
    },
    {
      "cell_type": "code",
      "source": [
        "# Checking basic info\n",
        "df.info()"
      ],
      "metadata": {
        "id": "1bn3orwk7Ij7"
      },
      "execution_count": null,
      "outputs": []
    },
    {
      "cell_type": "code",
      "source": [
        "# Checking default data summary using describe method and including non numerical features\n",
        "df.describe(include= 'all')"
      ],
      "metadata": {
        "id": "YKd_37sL7bmk"
      },
      "execution_count": null,
      "outputs": []
    },
    {
      "cell_type": "code",
      "source": [
        "# Count unique values each columns\n",
        "df.nunique()"
      ],
      "metadata": {
        "id": "dydCbyTY0QGg"
      },
      "execution_count": null,
      "outputs": []
    },
    {
      "cell_type": "code",
      "source": [
        "# Checking null values in each columns if any\n",
        "df.isnull().sum()"
      ],
      "metadata": {
        "id": "Uye1EeCxySWU"
      },
      "execution_count": null,
      "outputs": []
    },
    {
      "cell_type": "code",
      "source": [
        "# Countplot for null values(before)\n",
        "\n",
        "# Visualize the number of missing values (here no any missing values)\n",
        "\n",
        "msno.bar(df)"
      ],
      "metadata": {
        "id": "-G7RQWfxzp8F"
      },
      "execution_count": null,
      "outputs": []
    },
    {
      "cell_type": "markdown",
      "source": [
        "#<b> 04 EDA 🔍 on NYC Taxi dataset\n",
        "\n",
        "#### Let's do some **Exploratary Data Analysis** on given dataset using **klib.**\n"
      ],
      "metadata": {
        "id": "AZY9nb0U0rSm"
      }
    },
    {
      "cell_type": "code",
      "source": [
        "# klib.describe - functions for visualizing datasets\n",
        "'''\n",
        "klib.cat_plot(df) # returns a visualization of the number and frequency of categorical features\n",
        "klib.corr_mat(df) # returns a color-encoded correlation matrix\n",
        "klib.corr_plot(df) # returns a color-encoded heatmap, ideal for correlations\n",
        "klib.dist_plot(df) # returns a distribution plot for every numeric feature\n",
        "klib.missingval_plot(df) # returns a figure containing information about missing values\n",
        "\n",
        "'''"
      ],
      "metadata": {
        "id": "7O8s4Bs71AE7"
      },
      "execution_count": null,
      "outputs": []
    },
    {
      "cell_type": "code",
      "source": [
        "#  A distribution plot for every numeric feature\n",
        "\n",
        "klib.dist_plot(df) "
      ],
      "metadata": {
        "id": "TJvHIcfd3sHe"
      },
      "execution_count": null,
      "outputs": []
    },
    {
      "cell_type": "code",
      "source": [
        "#  A color-encoded correlation matrix\n",
        "\n",
        "klib.corr_mat(df)"
      ],
      "metadata": {
        "id": "uqZ9FacM7I1-"
      },
      "execution_count": null,
      "outputs": []
    },
    {
      "cell_type": "code",
      "source": [
        "# A color-encoded heatmap for correlations\n",
        "\n",
        "klib.corr_plot(df) "
      ],
      "metadata": {
        "id": "3iF4RgaD7iWo"
      },
      "execution_count": null,
      "outputs": []
    },
    {
      "cell_type": "code",
      "source": [
        "# Correlation graph dependent and independent features\n",
        "\n",
        "klib.corr_plot(df, target=df['trip_duration']) "
      ],
      "metadata": {
        "id": "5SOCsXDD7ul1"
      },
      "execution_count": null,
      "outputs": []
    },
    {
      "cell_type": "code",
      "source": [
        "#  A figure containing information about missing values\n",
        "klib.missingval_plot(df) "
      ],
      "metadata": {
        "id": "8U4FXd87-gNw",
        "colab": {
          "base_uri": "https://localhost:8080/"
        },
        "outputId": "cf0880c4-ca79-41c4-9db9-78cca5de4bc5"
      },
      "execution_count": 30,
      "outputs": [
        {
          "output_type": "stream",
          "name": "stdout",
          "text": [
            "No missing values found in the dataset.\n"
          ]
        }
      ]
    },
    {
      "cell_type": "code",
      "source": [
        "# Checking number of rows and columns in our dataset.\n",
        "\n",
        "print(\"Number of rows in dataset are:\", df.shape[0])\n",
        "print(\"Number of columns in dataset are:\", df.shape[1])"
      ],
      "metadata": {
        "id": "O1Xi7VK49CMI",
        "colab": {
          "base_uri": "https://localhost:8080/"
        },
        "outputId": "7ff15479-4bfe-4768-a669-c51eb7af303b"
      },
      "execution_count": 31,
      "outputs": [
        {
          "output_type": "stream",
          "name": "stdout",
          "text": [
            "Number of rows in dataset are: 1458644\n",
            "Number of columns in dataset are: 11\n"
          ]
        }
      ]
    },
    {
      "cell_type": "code",
      "source": [
        "# Now let's consider each column in dataset as feture in our dataset.\n",
        "df.columns"
      ],
      "metadata": {
        "id": "omAs_dFC9CEb",
        "colab": {
          "base_uri": "https://localhost:8080/"
        },
        "outputId": "4cc87564-e226-4b90-ff60-dd998f494c2b"
      },
      "execution_count": 24,
      "outputs": [
        {
          "output_type": "execute_result",
          "data": {
            "text/plain": [
              "Index(['id', 'vendor_id', 'pickup_datetime', 'dropoff_datetime',\n",
              "       'passenger_count', 'pickup_longitude', 'pickup_latitude',\n",
              "       'dropoff_longitude', 'dropoff_latitude', 'store_and_fwd_flag',\n",
              "       'trip_duration'],\n",
              "      dtype='object')"
            ]
          },
          "metadata": {},
          "execution_count": 24
        }
      ]
    },
    {
      "cell_type": "markdown",
      "source": [
        "#<b> 05  Feature Creation\n",
        "#### Let us extract **pickup_datetime** and **dropoff_datetimeand** to create some new features using pandas datetime."
      ],
      "metadata": {
        "id": "TeH1sqb-_3TL"
      }
    },
    {
      "cell_type": "code",
      "source": [
        "# We have pickup_datetime, dropoff_datetime of the type 'object'. Convert it into type 'datetime'.\n",
        "\n",
        "df['pickup_datetime'] = pd.to_datetime(df['pickup_datetime'])\n",
        "df['dropoff_datetime'] = pd.to_datetime(df['dropoff_datetime'])"
      ],
      "metadata": {
        "id": "ANInSFb99Bxu"
      },
      "execution_count": null,
      "outputs": []
    },
    {
      "cell_type": "code",
      "source": [],
      "metadata": {
        "id": "xGs6wv7wAwTu"
      },
      "execution_count": null,
      "outputs": []
    }
  ],
  "metadata": {
    "colab": {
      "collapsed_sections": [],
      "provenance": [],
      "include_colab_link": true
    },
    "kernelspec": {
      "display_name": "Python 3",
      "language": "python",
      "name": "python3"
    },
    "language_info": {
      "codemirror_mode": {
        "name": "ipython",
        "version": 3
      },
      "file_extension": ".py",
      "mimetype": "text/x-python",
      "name": "python",
      "nbconvert_exporter": "python",
      "pygments_lexer": "ipython3",
      "version": "3.7.12"
    }
  },
  "nbformat": 4,
  "nbformat_minor": 0
}